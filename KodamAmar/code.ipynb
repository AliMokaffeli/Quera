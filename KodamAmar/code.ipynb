{
 "cells": [
  {
   "cell_type": "code",
   "execution_count": 7,
   "id": "initial_id",
   "metadata": {
    "collapsed": true,
    "ExecuteTime": {
     "end_time": "2024-02-25T15:00:39.537025800Z",
     "start_time": "2024-02-25T15:00:39.521798800Z"
    }
   },
   "outputs": [],
   "source": [
    "import pandas as pd\n",
    "import nltk\n",
    "import numpy as np"
   ]
  },
  {
   "cell_type": "code",
   "execution_count": 3,
   "outputs": [
    {
     "data": {
      "text/plain": "                                            abstract category\n0    In the last four years, daily deals have eme...  Applied\n1    We propose a novel approach for density esti...       ML\n2    In this research, two-state Markov switching...  Applied\n3    This article considers the estimation of the...  Applied\n4    Markowitz's celebrated mean--variance portfo...  Applied",
      "text/html": "<div>\n<style scoped>\n    .dataframe tbody tr th:only-of-type {\n        vertical-align: middle;\n    }\n\n    .dataframe tbody tr th {\n        vertical-align: top;\n    }\n\n    .dataframe thead th {\n        text-align: right;\n    }\n</style>\n<table border=\"1\" class=\"dataframe\">\n  <thead>\n    <tr style=\"text-align: right;\">\n      <th></th>\n      <th>abstract</th>\n      <th>category</th>\n    </tr>\n  </thead>\n  <tbody>\n    <tr>\n      <th>0</th>\n      <td>In the last four years, daily deals have eme...</td>\n      <td>Applied</td>\n    </tr>\n    <tr>\n      <th>1</th>\n      <td>We propose a novel approach for density esti...</td>\n      <td>ML</td>\n    </tr>\n    <tr>\n      <th>2</th>\n      <td>In this research, two-state Markov switching...</td>\n      <td>Applied</td>\n    </tr>\n    <tr>\n      <th>3</th>\n      <td>This article considers the estimation of the...</td>\n      <td>Applied</td>\n    </tr>\n    <tr>\n      <th>4</th>\n      <td>Markowitz's celebrated mean--variance portfo...</td>\n      <td>Applied</td>\n    </tr>\n  </tbody>\n</table>\n</div>"
     },
     "execution_count": 3,
     "metadata": {},
     "output_type": "execute_result"
    }
   ],
   "source": [
    "train = pd.read_csv('train.csv')\n",
    "test = pd.read_csv('test.csv')\n",
    "train.head()"
   ],
   "metadata": {
    "collapsed": false,
    "ExecuteTime": {
     "end_time": "2024-02-25T14:55:02.874559Z",
     "start_time": "2024-02-25T14:55:02.816840800Z"
    }
   },
   "id": "463f3d3609e0684"
  },
  {
   "cell_type": "code",
   "execution_count": 4,
   "outputs": [
    {
     "data": {
      "text/plain": "                                            abstract\n0    Probabilistic principal component analysis (...\n1    Sensor-based degradation signals measure the...\n2    The generic identification problem is to dec...\n3    We introduce a new class of lower bounds on ...\n4    Regularization is a powerful technique for e...",
      "text/html": "<div>\n<style scoped>\n    .dataframe tbody tr th:only-of-type {\n        vertical-align: middle;\n    }\n\n    .dataframe tbody tr th {\n        vertical-align: top;\n    }\n\n    .dataframe thead th {\n        text-align: right;\n    }\n</style>\n<table border=\"1\" class=\"dataframe\">\n  <thead>\n    <tr style=\"text-align: right;\">\n      <th></th>\n      <th>abstract</th>\n    </tr>\n  </thead>\n  <tbody>\n    <tr>\n      <th>0</th>\n      <td>Probabilistic principal component analysis (...</td>\n    </tr>\n    <tr>\n      <th>1</th>\n      <td>Sensor-based degradation signals measure the...</td>\n    </tr>\n    <tr>\n      <th>2</th>\n      <td>The generic identification problem is to dec...</td>\n    </tr>\n    <tr>\n      <th>3</th>\n      <td>We introduce a new class of lower bounds on ...</td>\n    </tr>\n    <tr>\n      <th>4</th>\n      <td>Regularization is a powerful technique for e...</td>\n    </tr>\n  </tbody>\n</table>\n</div>"
     },
     "execution_count": 4,
     "metadata": {},
     "output_type": "execute_result"
    }
   ],
   "source": [
    "test.head()"
   ],
   "metadata": {
    "collapsed": false,
    "ExecuteTime": {
     "end_time": "2024-02-25T14:55:10.030958700Z",
     "start_time": "2024-02-25T14:55:09.982962100Z"
    }
   },
   "id": "86be56239de9bf9f"
  },
  {
   "cell_type": "code",
   "execution_count": 5,
   "outputs": [
    {
     "name": "stdout",
     "output_type": "stream",
     "text": [
      "<class 'pandas.core.frame.DataFrame'>\n",
      "RangeIndex: 64 entries, 0 to 63\n",
      "Data columns (total 2 columns):\n",
      " #   Column    Non-Null Count  Dtype \n",
      "---  ------    --------------  ----- \n",
      " 0   abstract  64 non-null     object\n",
      " 1   category  64 non-null     object\n",
      "dtypes: object(2)\n",
      "memory usage: 1.1+ KB\n"
     ]
    }
   ],
   "source": [
    "train.info()"
   ],
   "metadata": {
    "collapsed": false,
    "ExecuteTime": {
     "end_time": "2024-02-25T14:55:28.455264200Z",
     "start_time": "2024-02-25T14:55:28.445251100Z"
    }
   },
   "id": "89fd182561ee98cd"
  }
 ],
 "metadata": {
  "kernelspec": {
   "display_name": "Python 3",
   "language": "python",
   "name": "python3"
  },
  "language_info": {
   "codemirror_mode": {
    "name": "ipython",
    "version": 2
   },
   "file_extension": ".py",
   "mimetype": "text/x-python",
   "name": "python",
   "nbconvert_exporter": "python",
   "pygments_lexer": "ipython2",
   "version": "2.7.6"
  }
 },
 "nbformat": 4,
 "nbformat_minor": 5
}
