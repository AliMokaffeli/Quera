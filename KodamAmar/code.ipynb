{
 "cells": [
  {
   "cell_type": "code",
   "execution_count": 1,
   "outputs": [],
   "source": [
    "import pandas as pd\n",
    "from sklearn.model_selection import train_test_split\n",
    "from sklearn.feature_extraction.text import TfidfVectorizer\n",
    "from sklearn.ensemble import RandomForestClassifier\n",
    "from sklearn.metrics import accuracy_score, classification_report, confusion_matrix"
   ],
   "metadata": {
    "collapsed": false,
    "ExecuteTime": {
     "end_time": "2024-02-25T17:29:31.964761Z",
     "start_time": "2024-02-25T17:29:30.575295Z"
    }
   },
   "id": "12d5570b679f6037"
  },
  {
   "cell_type": "code",
   "execution_count": 2,
   "outputs": [],
   "source": [
    "train = pd.read_csv('train.csv')\n",
    "test = pd.read_csv('test.csv')"
   ],
   "metadata": {
    "collapsed": false,
    "ExecuteTime": {
     "end_time": "2024-02-25T17:29:32.012435Z",
     "start_time": "2024-02-25T17:29:31.968062Z"
    }
   },
   "id": "7bea86acf4a0f126"
  },
  {
   "cell_type": "code",
   "execution_count": 3,
   "outputs": [
    {
     "data": {
      "text/plain": "                                             abstract category\n0     In the last four years, daily deals have eme...  Applied\n1     We propose a novel approach for density esti...       ML\n2     In this research, two-state Markov switching...  Applied\n3     This article considers the estimation of the...  Applied\n4     Markowitz's celebrated mean--variance portfo...  Applied\n..                                                ...      ...\n59    The use of Reinforcement Learning in real-wo...       ML\n60    The paper introduces a penalized matrix esti...       ML\n61    Cross-validation (CV) is widely used for tun...  Applied\n62    We analyze the results of the German Team Ha...  Applied\n63    In this paper we consider sparse and identif...       ML\n\n[64 rows x 2 columns]",
      "text/html": "<div>\n<style scoped>\n    .dataframe tbody tr th:only-of-type {\n        vertical-align: middle;\n    }\n\n    .dataframe tbody tr th {\n        vertical-align: top;\n    }\n\n    .dataframe thead th {\n        text-align: right;\n    }\n</style>\n<table border=\"1\" class=\"dataframe\">\n  <thead>\n    <tr style=\"text-align: right;\">\n      <th></th>\n      <th>abstract</th>\n      <th>category</th>\n    </tr>\n  </thead>\n  <tbody>\n    <tr>\n      <th>0</th>\n      <td>In the last four years, daily deals have eme...</td>\n      <td>Applied</td>\n    </tr>\n    <tr>\n      <th>1</th>\n      <td>We propose a novel approach for density esti...</td>\n      <td>ML</td>\n    </tr>\n    <tr>\n      <th>2</th>\n      <td>In this research, two-state Markov switching...</td>\n      <td>Applied</td>\n    </tr>\n    <tr>\n      <th>3</th>\n      <td>This article considers the estimation of the...</td>\n      <td>Applied</td>\n    </tr>\n    <tr>\n      <th>4</th>\n      <td>Markowitz's celebrated mean--variance portfo...</td>\n      <td>Applied</td>\n    </tr>\n    <tr>\n      <th>...</th>\n      <td>...</td>\n      <td>...</td>\n    </tr>\n    <tr>\n      <th>59</th>\n      <td>The use of Reinforcement Learning in real-wo...</td>\n      <td>ML</td>\n    </tr>\n    <tr>\n      <th>60</th>\n      <td>The paper introduces a penalized matrix esti...</td>\n      <td>ML</td>\n    </tr>\n    <tr>\n      <th>61</th>\n      <td>Cross-validation (CV) is widely used for tun...</td>\n      <td>Applied</td>\n    </tr>\n    <tr>\n      <th>62</th>\n      <td>We analyze the results of the German Team Ha...</td>\n      <td>Applied</td>\n    </tr>\n    <tr>\n      <th>63</th>\n      <td>In this paper we consider sparse and identif...</td>\n      <td>ML</td>\n    </tr>\n  </tbody>\n</table>\n<p>64 rows × 2 columns</p>\n</div>"
     },
     "execution_count": 3,
     "metadata": {},
     "output_type": "execute_result"
    }
   ],
   "source": [
    "train"
   ],
   "metadata": {
    "collapsed": false,
    "ExecuteTime": {
     "end_time": "2024-02-25T17:29:32.060868200Z",
     "start_time": "2024-02-25T17:29:32.018435500Z"
    }
   },
   "id": "aa7e8f91426965a8"
  },
  {
   "cell_type": "code",
   "execution_count": 4,
   "outputs": [
    {
     "data": {
      "text/plain": "                                               abstract\n0       Probabilistic principal component analysis (...\n1       Sensor-based degradation signals measure the...\n2       The generic identification problem is to dec...\n3       We introduce a new class of lower bounds on ...\n4       Regularization is a powerful technique for e...\n...                                                 ...\n3931    The goal of cross-domain object matching (CD...\n3932    Sequential prediction problems such as imita...\n3933    Minimizing the relative inertia of a statist...\n3934    The 2004 US Presidential Election cycle mark...\n3935    The class of Schoenberg transformations, emb...\n\n[3936 rows x 1 columns]",
      "text/html": "<div>\n<style scoped>\n    .dataframe tbody tr th:only-of-type {\n        vertical-align: middle;\n    }\n\n    .dataframe tbody tr th {\n        vertical-align: top;\n    }\n\n    .dataframe thead th {\n        text-align: right;\n    }\n</style>\n<table border=\"1\" class=\"dataframe\">\n  <thead>\n    <tr style=\"text-align: right;\">\n      <th></th>\n      <th>abstract</th>\n    </tr>\n  </thead>\n  <tbody>\n    <tr>\n      <th>0</th>\n      <td>Probabilistic principal component analysis (...</td>\n    </tr>\n    <tr>\n      <th>1</th>\n      <td>Sensor-based degradation signals measure the...</td>\n    </tr>\n    <tr>\n      <th>2</th>\n      <td>The generic identification problem is to dec...</td>\n    </tr>\n    <tr>\n      <th>3</th>\n      <td>We introduce a new class of lower bounds on ...</td>\n    </tr>\n    <tr>\n      <th>4</th>\n      <td>Regularization is a powerful technique for e...</td>\n    </tr>\n    <tr>\n      <th>...</th>\n      <td>...</td>\n    </tr>\n    <tr>\n      <th>3931</th>\n      <td>The goal of cross-domain object matching (CD...</td>\n    </tr>\n    <tr>\n      <th>3932</th>\n      <td>Sequential prediction problems such as imita...</td>\n    </tr>\n    <tr>\n      <th>3933</th>\n      <td>Minimizing the relative inertia of a statist...</td>\n    </tr>\n    <tr>\n      <th>3934</th>\n      <td>The 2004 US Presidential Election cycle mark...</td>\n    </tr>\n    <tr>\n      <th>3935</th>\n      <td>The class of Schoenberg transformations, emb...</td>\n    </tr>\n  </tbody>\n</table>\n<p>3936 rows × 1 columns</p>\n</div>"
     },
     "execution_count": 4,
     "metadata": {},
     "output_type": "execute_result"
    }
   ],
   "source": [
    "test"
   ],
   "metadata": {
    "collapsed": false,
    "ExecuteTime": {
     "end_time": "2024-02-25T17:29:32.088041100Z",
     "start_time": "2024-02-25T17:29:32.045406900Z"
    }
   },
   "id": "ec8555eec1af5bbc"
  },
  {
   "cell_type": "code",
   "execution_count": 5,
   "outputs": [
    {
     "data": {
      "text/plain": "array(['Applied', 'ML'], dtype=object)"
     },
     "execution_count": 5,
     "metadata": {},
     "output_type": "execute_result"
    }
   ],
   "source": [
    "train['category'].unique()"
   ],
   "metadata": {
    "collapsed": false,
    "ExecuteTime": {
     "end_time": "2024-02-25T17:29:32.113598700Z",
     "start_time": "2024-02-25T17:29:32.065868800Z"
    }
   },
   "id": "463f3d3609e0684"
  },
  {
   "cell_type": "code",
   "execution_count": 6,
   "outputs": [],
   "source": [
    "train['abstract'] = train['abstract'].apply(lambda x: x.lower())\n",
    "train['abstract'] = train['abstract'].apply(lambda x: x.lower())"
   ],
   "metadata": {
    "collapsed": false,
    "ExecuteTime": {
     "end_time": "2024-02-25T17:29:32.155229300Z",
     "start_time": "2024-02-25T17:29:32.079871200Z"
    }
   },
   "id": "b149d814c6bb98e1"
  },
  {
   "cell_type": "code",
   "execution_count": 7,
   "outputs": [],
   "source": [
    "X_train, X_val, y_train, y_val = train_test_split(train['abstract'], train['category'], test_size=0.25,\n",
    "                                                  random_state=8)"
   ],
   "metadata": {
    "collapsed": false,
    "ExecuteTime": {
     "end_time": "2024-02-25T17:29:32.155229300Z",
     "start_time": "2024-02-25T17:29:32.092771500Z"
    }
   },
   "id": "cd0d3188e0f82286"
  },
  {
   "cell_type": "code",
   "execution_count": 8,
   "outputs": [],
   "source": [
    "tfidf_vectorizer = TfidfVectorizer(max_features=5000)\n",
    "X_train_tfidf = tfidf_vectorizer.fit_transform(X_train)\n",
    "X_val_tfidf = tfidf_vectorizer.transform(X_val)\n",
    "X_test_tfidf = tfidf_vectorizer.transform(test['abstract'])"
   ],
   "metadata": {
    "collapsed": false,
    "ExecuteTime": {
     "end_time": "2024-02-25T17:29:32.463178400Z",
     "start_time": "2024-02-25T17:29:32.108604500Z"
    }
   },
   "id": "273c5dcc3a65f859"
  },
  {
   "cell_type": "code",
   "execution_count": 9,
   "outputs": [],
   "source": [
    "model = RandomForestClassifier()"
   ],
   "metadata": {
    "collapsed": false,
    "ExecuteTime": {
     "end_time": "2024-02-25T17:29:32.480379400Z",
     "start_time": "2024-02-25T17:29:32.466377600Z"
    }
   },
   "id": "2f3ec248409da09"
  },
  {
   "cell_type": "code",
   "execution_count": 10,
   "outputs": [
    {
     "data": {
      "text/plain": "RandomForestClassifier()",
      "text/html": "<style>#sk-container-id-1 {color: black;background-color: white;}#sk-container-id-1 pre{padding: 0;}#sk-container-id-1 div.sk-toggleable {background-color: white;}#sk-container-id-1 label.sk-toggleable__label {cursor: pointer;display: block;width: 100%;margin-bottom: 0;padding: 0.3em;box-sizing: border-box;text-align: center;}#sk-container-id-1 label.sk-toggleable__label-arrow:before {content: \"▸\";float: left;margin-right: 0.25em;color: #696969;}#sk-container-id-1 label.sk-toggleable__label-arrow:hover:before {color: black;}#sk-container-id-1 div.sk-estimator:hover label.sk-toggleable__label-arrow:before {color: black;}#sk-container-id-1 div.sk-toggleable__content {max-height: 0;max-width: 0;overflow: hidden;text-align: left;background-color: #f0f8ff;}#sk-container-id-1 div.sk-toggleable__content pre {margin: 0.2em;color: black;border-radius: 0.25em;background-color: #f0f8ff;}#sk-container-id-1 input.sk-toggleable__control:checked~div.sk-toggleable__content {max-height: 200px;max-width: 100%;overflow: auto;}#sk-container-id-1 input.sk-toggleable__control:checked~label.sk-toggleable__label-arrow:before {content: \"▾\";}#sk-container-id-1 div.sk-estimator input.sk-toggleable__control:checked~label.sk-toggleable__label {background-color: #d4ebff;}#sk-container-id-1 div.sk-label input.sk-toggleable__control:checked~label.sk-toggleable__label {background-color: #d4ebff;}#sk-container-id-1 input.sk-hidden--visually {border: 0;clip: rect(1px 1px 1px 1px);clip: rect(1px, 1px, 1px, 1px);height: 1px;margin: -1px;overflow: hidden;padding: 0;position: absolute;width: 1px;}#sk-container-id-1 div.sk-estimator {font-family: monospace;background-color: #f0f8ff;border: 1px dotted black;border-radius: 0.25em;box-sizing: border-box;margin-bottom: 0.5em;}#sk-container-id-1 div.sk-estimator:hover {background-color: #d4ebff;}#sk-container-id-1 div.sk-parallel-item::after {content: \"\";width: 100%;border-bottom: 1px solid gray;flex-grow: 1;}#sk-container-id-1 div.sk-label:hover label.sk-toggleable__label {background-color: #d4ebff;}#sk-container-id-1 div.sk-serial::before {content: \"\";position: absolute;border-left: 1px solid gray;box-sizing: border-box;top: 0;bottom: 0;left: 50%;z-index: 0;}#sk-container-id-1 div.sk-serial {display: flex;flex-direction: column;align-items: center;background-color: white;padding-right: 0.2em;padding-left: 0.2em;position: relative;}#sk-container-id-1 div.sk-item {position: relative;z-index: 1;}#sk-container-id-1 div.sk-parallel {display: flex;align-items: stretch;justify-content: center;background-color: white;position: relative;}#sk-container-id-1 div.sk-item::before, #sk-container-id-1 div.sk-parallel-item::before {content: \"\";position: absolute;border-left: 1px solid gray;box-sizing: border-box;top: 0;bottom: 0;left: 50%;z-index: -1;}#sk-container-id-1 div.sk-parallel-item {display: flex;flex-direction: column;z-index: 1;position: relative;background-color: white;}#sk-container-id-1 div.sk-parallel-item:first-child::after {align-self: flex-end;width: 50%;}#sk-container-id-1 div.sk-parallel-item:last-child::after {align-self: flex-start;width: 50%;}#sk-container-id-1 div.sk-parallel-item:only-child::after {width: 0;}#sk-container-id-1 div.sk-dashed-wrapped {border: 1px dashed gray;margin: 0 0.4em 0.5em 0.4em;box-sizing: border-box;padding-bottom: 0.4em;background-color: white;}#sk-container-id-1 div.sk-label label {font-family: monospace;font-weight: bold;display: inline-block;line-height: 1.2em;}#sk-container-id-1 div.sk-label-container {text-align: center;}#sk-container-id-1 div.sk-container {/* jupyter's `normalize.less` sets `[hidden] { display: none; }` but bootstrap.min.css set `[hidden] { display: none !important; }` so we also need the `!important` here to be able to override the default hidden behavior on the sphinx rendered scikit-learn.org. See: https://github.com/scikit-learn/scikit-learn/issues/21755 */display: inline-block !important;position: relative;}#sk-container-id-1 div.sk-text-repr-fallback {display: none;}</style><div id=\"sk-container-id-1\" class=\"sk-top-container\"><div class=\"sk-text-repr-fallback\"><pre>RandomForestClassifier()</pre><b>In a Jupyter environment, please rerun this cell to show the HTML representation or trust the notebook. <br />On GitHub, the HTML representation is unable to render, please try loading this page with nbviewer.org.</b></div><div class=\"sk-container\" hidden><div class=\"sk-item\"><div class=\"sk-estimator sk-toggleable\"><input class=\"sk-toggleable__control sk-hidden--visually\" id=\"sk-estimator-id-1\" type=\"checkbox\" checked><label for=\"sk-estimator-id-1\" class=\"sk-toggleable__label sk-toggleable__label-arrow\">RandomForestClassifier</label><div class=\"sk-toggleable__content\"><pre>RandomForestClassifier()</pre></div></div></div></div></div>"
     },
     "execution_count": 10,
     "metadata": {},
     "output_type": "execute_result"
    }
   ],
   "source": [
    "model.fit(X_train_tfidf, y_train)"
   ],
   "metadata": {
    "collapsed": false,
    "ExecuteTime": {
     "end_time": "2024-02-25T17:29:32.665733700Z",
     "start_time": "2024-02-25T17:29:32.481377500Z"
    }
   },
   "id": "ba097256d040a826"
  },
  {
   "cell_type": "code",
   "execution_count": 11,
   "outputs": [],
   "source": [
    "val_predictions = model.predict(X_val_tfidf)\n",
    "train_prediction = model.predict(X_train_tfidf)"
   ],
   "metadata": {
    "collapsed": false,
    "ExecuteTime": {
     "end_time": "2024-02-25T17:29:32.705751700Z",
     "start_time": "2024-02-25T17:29:32.667730600Z"
    }
   },
   "id": "739b9ee31545184d"
  },
  {
   "cell_type": "code",
   "execution_count": 12,
   "outputs": [
    {
     "name": "stdout",
     "output_type": "stream",
     "text": [
      "[[24  0]\n",
      " [ 0 24]]\n"
     ]
    }
   ],
   "source": [
    "print(confusion_matrix(y_train, train_prediction))"
   ],
   "metadata": {
    "collapsed": false,
    "ExecuteTime": {
     "end_time": "2024-02-25T17:29:32.713731600Z",
     "start_time": "2024-02-25T17:29:32.700733200Z"
    }
   },
   "id": "7f186d50e3a4f615"
  },
  {
   "cell_type": "code",
   "execution_count": 13,
   "outputs": [
    {
     "name": "stdout",
     "output_type": "stream",
     "text": [
      "              precision    recall  f1-score   support\n",
      "\n",
      "     Applied       0.62      0.83      0.71         6\n",
      "          ML       0.88      0.70      0.78        10\n",
      "\n",
      "    accuracy                           0.75        16\n",
      "   macro avg       0.75      0.77      0.75        16\n",
      "weighted avg       0.78      0.75      0.75        16\n",
      "\n",
      "[[5 1]\n",
      " [3 7]]\n"
     ]
    }
   ],
   "source": [
    "print(classification_report(y_val, val_predictions))\n",
    "print(confusion_matrix(y_val, val_predictions))"
   ],
   "metadata": {
    "collapsed": false,
    "ExecuteTime": {
     "end_time": "2024-02-25T17:29:32.773258100Z",
     "start_time": "2024-02-25T17:29:32.716730100Z"
    }
   },
   "id": "a348000cc284b813"
  },
  {
   "cell_type": "code",
   "execution_count": 14,
   "outputs": [],
   "source": [
    "test_predictions = model.predict(X_test_tfidf)"
   ],
   "metadata": {
    "collapsed": false,
    "ExecuteTime": {
     "end_time": "2024-02-25T17:29:32.807248700Z",
     "start_time": "2024-02-25T17:29:32.733739400Z"
    }
   },
   "id": "f22841b563cb7a85"
  },
  {
   "cell_type": "code",
   "execution_count": 15,
   "outputs": [],
   "source": [
    "output = pd.DataFrame(test_predictions, columns=['prediction'])"
   ],
   "metadata": {
    "collapsed": false,
    "ExecuteTime": {
     "end_time": "2024-02-25T17:29:32.822254500Z",
     "start_time": "2024-02-25T17:29:32.809248800Z"
    }
   },
   "id": "351ba626094332d2"
  },
  {
   "cell_type": "code",
   "execution_count": 16,
   "outputs": [],
   "source": [
    "output.to_csv('output.csv', index=False)"
   ],
   "metadata": {
    "collapsed": false,
    "ExecuteTime": {
     "end_time": "2024-02-25T17:29:32.840332500Z",
     "start_time": "2024-02-25T17:29:32.823255800Z"
    }
   },
   "id": "3902ec463af2ea3c"
  }
 ],
 "metadata": {
  "kernelspec": {
   "display_name": "Python 3",
   "language": "python",
   "name": "python3"
  },
  "language_info": {
   "codemirror_mode": {
    "name": "ipython",
    "version": 2
   },
   "file_extension": ".py",
   "mimetype": "text/x-python",
   "name": "python",
   "nbconvert_exporter": "python",
   "pygments_lexer": "ipython2",
   "version": "2.7.6"
  }
 },
 "nbformat": 4,
 "nbformat_minor": 5
}
